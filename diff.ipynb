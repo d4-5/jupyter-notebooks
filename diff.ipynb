{
 "cells": [
  {
   "cell_type": "code",
   "execution_count": 1,
   "id": "e28dd42f",
   "metadata": {},
   "outputs": [
    {
     "data": {
      "text/latex": [
       "$\\displaystyle a \\operatorname{u_{xx}}{\\left(x,y \\right)} + 2 a \\operatorname{u_{xy}}{\\left(x,y \\right)} + a \\operatorname{u_{yy}}{\\left(x,y \\right)} + b \\operatorname{u_{x}}{\\left(x,y \\right)} + c \\operatorname{u_{y}}{\\left(x,y \\right)} + u{\\left(x,y \\right)}$"
      ],
      "text/plain": [
       "<IPython.core.display.Math object>"
      ]
     },
     "metadata": {},
     "output_type": "display_data"
    },
    {
     "data": {
      "text/latex": [
       "$\\displaystyle ξ = - x + y$"
      ],
      "text/plain": [
       "<IPython.core.display.Math object>"
      ]
     },
     "metadata": {},
     "output_type": "display_data"
    },
    {
     "data": {
      "text/latex": [
       "$\\displaystyle η = y$"
      ],
      "text/plain": [
       "<IPython.core.display.Math object>"
      ]
     },
     "metadata": {},
     "output_type": "display_data"
    },
    {
     "data": {
      "text/latex": [
       "$\\displaystyle ξ_x = -1$"
      ],
      "text/plain": [
       "<IPython.core.display.Math object>"
      ]
     },
     "metadata": {},
     "output_type": "display_data"
    },
    {
     "data": {
      "text/latex": [
       "$\\displaystyle ξ_y = 1$"
      ],
      "text/plain": [
       "<IPython.core.display.Math object>"
      ]
     },
     "metadata": {},
     "output_type": "display_data"
    },
    {
     "data": {
      "text/latex": [
       "$\\displaystyle η_x = 0$"
      ],
      "text/plain": [
       "<IPython.core.display.Math object>"
      ]
     },
     "metadata": {},
     "output_type": "display_data"
    },
    {
     "data": {
      "text/latex": [
       "$\\displaystyle η_y = 1$"
      ],
      "text/plain": [
       "<IPython.core.display.Math object>"
      ]
     },
     "metadata": {},
     "output_type": "display_data"
    },
    {
     "data": {
      "text/latex": [
       "$\\displaystyle ξ_{xx} = 0$"
      ],
      "text/plain": [
       "<IPython.core.display.Math object>"
      ]
     },
     "metadata": {},
     "output_type": "display_data"
    },
    {
     "data": {
      "text/latex": [
       "$\\displaystyle η_{xx} = 0$"
      ],
      "text/plain": [
       "<IPython.core.display.Math object>"
      ]
     },
     "metadata": {},
     "output_type": "display_data"
    },
    {
     "data": {
      "text/latex": [
       "$\\displaystyle ξ_{xy} = 0$"
      ],
      "text/plain": [
       "<IPython.core.display.Math object>"
      ]
     },
     "metadata": {},
     "output_type": "display_data"
    },
    {
     "data": {
      "text/latex": [
       "$\\displaystyle η_{xy} = 0$"
      ],
      "text/plain": [
       "<IPython.core.display.Math object>"
      ]
     },
     "metadata": {},
     "output_type": "display_data"
    },
    {
     "data": {
      "text/latex": [
       "$\\displaystyle ξ_{yy} = 0$"
      ],
      "text/plain": [
       "<IPython.core.display.Math object>"
      ]
     },
     "metadata": {},
     "output_type": "display_data"
    },
    {
     "data": {
      "text/latex": [
       "$\\displaystyle η_{yy} = 0$"
      ],
      "text/plain": [
       "<IPython.core.display.Math object>"
      ]
     },
     "metadata": {},
     "output_type": "display_data"
    },
    {
     "data": {
      "text/latex": [
       "$\\displaystyle u_x = - \\operatorname{u_{ξ}}{\\left(ξ{\\left(x,y \\right)},η{\\left(x,y \\right)} \\right)}$"
      ],
      "text/plain": [
       "<IPython.core.display.Math object>"
      ]
     },
     "metadata": {},
     "output_type": "display_data"
    },
    {
     "data": {
      "text/latex": [
       "$\\displaystyle u_y = \\operatorname{u_{η}}{\\left(ξ{\\left(x,y \\right)},η{\\left(x,y \\right)} \\right)} + \\operatorname{u_{ξ}}{\\left(ξ{\\left(x,y \\right)},η{\\left(x,y \\right)} \\right)}$"
      ],
      "text/plain": [
       "<IPython.core.display.Math object>"
      ]
     },
     "metadata": {},
     "output_type": "display_data"
    },
    {
     "data": {
      "text/latex": [
       "$\\displaystyle u_{xx} = \\operatorname{u_{ξξ}}{\\left(ξ{\\left(x,y \\right)},η{\\left(x,y \\right)} \\right)}$"
      ],
      "text/plain": [
       "<IPython.core.display.Math object>"
      ]
     },
     "metadata": {},
     "output_type": "display_data"
    },
    {
     "data": {
      "text/latex": [
       "$\\displaystyle u_{xy} = - \\operatorname{u_{ξη}}{\\left(ξ{\\left(x,y \\right)},η{\\left(x,y \\right)} \\right)} - \\operatorname{u_{ξξ}}{\\left(ξ{\\left(x,y \\right)},η{\\left(x,y \\right)} \\right)}$"
      ],
      "text/plain": [
       "<IPython.core.display.Math object>"
      ]
     },
     "metadata": {},
     "output_type": "display_data"
    },
    {
     "data": {
      "text/latex": [
       "$\\displaystyle u_{yy} = \\operatorname{u_{ηη}}{\\left(ξ{\\left(x,y \\right)},η{\\left(x,y \\right)} \\right)} + 2 \\operatorname{u_{ξη}}{\\left(ξ{\\left(x,y \\right)},η{\\left(x,y \\right)} \\right)} + \\operatorname{u_{ξξ}}{\\left(ξ{\\left(x,y \\right)},η{\\left(x,y \\right)} \\right)}$"
      ],
      "text/plain": [
       "<IPython.core.display.Math object>"
      ]
     },
     "metadata": {},
     "output_type": "display_data"
    },
    {
     "data": {
      "text/latex": [
       "$\\displaystyle a \\operatorname{u_{ηη}}{\\left(ξ{\\left(x,y \\right)},η{\\left(x,y \\right)} \\right)} - b \\operatorname{u_{ξ}}{\\left(ξ{\\left(x,y \\right)},η{\\left(x,y \\right)} \\right)} + c \\operatorname{u_{η}}{\\left(ξ{\\left(x,y \\right)},η{\\left(x,y \\right)} \\right)} + c \\operatorname{u_{ξ}}{\\left(ξ{\\left(x,y \\right)},η{\\left(x,y \\right)} \\right)} + u{\\left(- x + y,y \\right)}$"
      ],
      "text/plain": [
       "<IPython.core.display.Math object>"
      ]
     },
     "metadata": {},
     "output_type": "display_data"
    }
   ],
   "source": [
    "import sympy as sp\n",
    "from IPython.display import display, Math\n",
    "\n",
    "a, b, c = sp.symbols('a b c')\n",
    "a1 = a\n",
    "a2 = 2*a\n",
    "a3 = a\n",
    "a4 = b\n",
    "a5 = c\n",
    "a6 = 1\n",
    "\n",
    "#initialize\n",
    "x, y = sp.symbols('x y')\n",
    "f1 = sp.Function('ξ')(x, y)\n",
    "f2 = sp.Function('η')(x, y)\n",
    "u = sp.Function('u')(x, y)\n",
    "#derivatives\n",
    "u_f1 = sp.Function('u_ξ')(f1, f2)\n",
    "u_f2 = sp.Function('u_η')(f1, f2)\n",
    "u_f1f1 = sp.Function('u_ξξ')(f1, f2)\n",
    "u_f1f2 = sp.Function('u_ξη')(f1, f2)\n",
    "u_f2f2 = sp.Function('u_ηη')(f1, f2)\n",
    "u_xx = sp.Function('u_xx')(x,y)\n",
    "u_xy = sp.Function('u_xy')(x,y)\n",
    "u_yy = sp.Function('u_yy')(x,y)\n",
    "u_x = sp.Function('u_x')(x,y)\n",
    "u_y = sp.Function('u_y')(x,y)\n",
    "diff_eq = a1 * u_xx + a2 * u_xy + a3 * u_yy + a4 * u_x + a5 * u_y + a6 * u\n",
    "display(Math(sp.latex(diff_eq)))\n",
    "#xi, nu\n",
    "f1 = y-x\n",
    "f2 = y\n",
    "\n",
    "\n",
    "display(Math(\"ξ = \" + sp.latex(f1)))\n",
    "display(Math(\"η = \" + sp.latex(f2)))\n",
    "\n",
    "f1_x = sp.diff(f1, x)\n",
    "f1_y = sp.diff(f1, y)\n",
    "f2_x = sp.diff(f2, x)\n",
    "f2_y = sp.diff(f2, y)\n",
    "f1_xx = sp.diff(f1_x, x)\n",
    "f2_xx = sp.diff(f2_x, x)\n",
    "f1_xy = sp.diff(f1_x, y)\n",
    "f2_xy = sp.diff(f2_x, y)\n",
    "f1_yy = sp.diff(f1_y, y)\n",
    "f2_yy = sp.diff(f2_y, y)\n",
    "display(Math(\"ξ_x = \" + sp.latex(f1_x)))\n",
    "display(Math(\"ξ_y = \" + sp.latex(f1_y)))\n",
    "display(Math(\"η_x = \" + sp.latex(f2_x)))\n",
    "display(Math(\"η_y = \" + sp.latex(f2_y)))\n",
    "display(Math(\"ξ_{xx} = \" + sp.latex(f1_xx)))\n",
    "display(Math(\"η_{xx} = \" + sp.latex(f2_xx)))\n",
    "display(Math(\"ξ_{xy} = \" + sp.latex(f1_xy)))\n",
    "display(Math(\"η_{xy} = \" + sp.latex(f2_xy)))\n",
    "display(Math(\"ξ_{yy} = \" + sp.latex(f1_yy)))\n",
    "display(Math(\"η_{yy} = \" + sp.latex(f2_yy)))\n",
    "\n",
    "u = sp.Function('u')(f1, f2)\n",
    "u_x = u_f1 * f1_x + u_f2 * f2_x\n",
    "u_y = u_f1 * f1_y + u_f2 * f2_y\n",
    "u_xx = u_f1f1 *(f1_x)**2 + 2*u_f1f2*(f1_x * f2_x) + u_f2f2*(f2_x)**2 + u_f1*(f1_xx) + u_f2*(f2_xx)\n",
    "u_xy = u_f1f1 *(f1_x*f1_y) + u_f1f2*(f1_x*f2_y + f1_y*f2_x) + u_f2f2*(f2_x*f2_y) + u_f1*(f1_xy) + u_f2*(f2_xy)\n",
    "u_yy = u_f1f1*(f1_y)**2 + 2*u_f1f2*(f1_y*f2_y) + u_f2f2*(f2_y)**2 + u_f1*(f1_yy) + u_f2*(f2_yy)\n",
    "display(Math(\"u_x = \" + sp.latex(u_x)))\n",
    "display(Math(\"u_y = \" + sp.latex(u_y)))\n",
    "display(Math(\"u_{xx} = \" + sp.latex(u_xx)))\n",
    "display(Math(\"u_{xy} = \" + sp.latex(u_xy)))\n",
    "display(Math(\"u_{yy} = \" + sp.latex(u_yy)))\n",
    "    \n",
    "new_diff_eq = a1 * u_xx + a2 * u_xy + a3 * u_yy + a4 * u_x + a5 * u_y + a6 * u\n",
    "simplified_diff_eq = sp.simplify(new_diff_eq)\n",
    "display(Math(sp.latex(simplified_diff_eq)))"
   ]
  },
  {
   "cell_type": "code",
   "execution_count": null,
   "id": "c417e191",
   "metadata": {},
   "outputs": [],
   "source": []
  }
 ],
 "metadata": {
  "kernelspec": {
   "display_name": "Python 3",
   "language": "python",
   "name": "python3"
  },
  "language_info": {
   "codemirror_mode": {
    "name": "ipython",
    "version": 3
   },
   "file_extension": ".py",
   "mimetype": "text/x-python",
   "name": "python",
   "nbconvert_exporter": "python",
   "pygments_lexer": "ipython3",
   "version": "3.6.15"
  }
 },
 "nbformat": 4,
 "nbformat_minor": 5
}
