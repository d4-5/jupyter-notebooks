import sympy as sp
from IPython.display import display, Math

a, b, c = sp.symbols('a b c')
a1 = a
a2 = 2*a
a3 = a
a4 = b
a5 = c
a6 = 1

#initialize
x, y = sp.symbols('x y')
f1 = sp.Function('ξ')(x, y)
f2 = sp.Function('η')(x, y)
u = sp.Function('u')(x, y)
#derivatives
u_f1 = sp.Function('u_ξ')(f1, f2)
u_f2 = sp.Function('u_η')(f1, f2)
u_f1f1 = sp.Function('u_ξξ')(f1, f2)
u_f1f2 = sp.Function('u_ξη')(f1, f2)
u_f2f2 = sp.Function('u_ηη')(f1, f2)
u_xx = sp.Function('u_xx')(x,y)
u_xy = sp.Function('u_xy')(x,y)
u_yy = sp.Function('u_yy')(x,y)
u_x = sp.Function('u_x')(x,y)
u_y = sp.Function('u_y')(x,y)
diff_eq = a1 * u_xx + a2 * u_xy + a3 * u_yy + a4 * u_x + a5 * u_y + a6 * u
display(Math(sp.latex(diff_eq)))
#xi, nu
f1 = y-x
f2 = y


display(Math(ξ =  + sp.latex(f1)))
display(Math(η =  + sp.latex(f2)))

f1_x = sp.diff(f1, x)
f1_y = sp.diff(f1, y)
f2_x = sp.diff(f2, x)
f2_y = sp.diff(f2, y)
f1_xx = sp.diff(f1_x, x)
f2_xx = sp.diff(f2_x, x)
f1_xy = sp.diff(f1_x, y)
f2_xy = sp.diff(f2_x, y)
f1_yy = sp.diff(f1_y, y)
f2_yy = sp.diff(f2_y, y)
display(Math(ξ_x =  + sp.latex(f1_x)))
display(Math(ξ_y =  + sp.latex(f1_y)))
display(Math(η_x =  + sp.latex(f2_x)))
display(Math(η_y =  + sp.latex(f2_y)))
display(Math(ξ_{xx} =  + sp.latex(f1_xx)))
display(Math(η_{xx} =  + sp.latex(f2_xx)))
display(Math(ξ_{xy} =  + sp.latex(f1_xy)))
display(Math(η_{xy} =  + sp.latex(f2_xy)))
display(Math(ξ_{yy} =  + sp.latex(f1_yy)))
display(Math(η_{yy} =  + sp.latex(f2_yy)))

u = sp.Function('u')(f1, f2)
u_x = u_f1 * f1_x + u_f2 * f2_x
u_y = u_f1 * f1_y + u_f2 * f2_y
u_xx = u_f1f1 *(f1_x)**2 + 2*u_f1f2*(f1_x * f2_x) + u_f2f2*(f2_x)**2 + u_f1*(f1_xx) + u_f2*(f2_xx)
u_xy = u_f1f1 *(f1_x*f1_y) + u_f1f2*(f1_x*f2_y + f1_y*f2_x) + u_f2f2*(f2_x*f2_y) + u_f1*(f1_xy) + u_f2*(f2_xy)
u_yy = u_f1f1*(f1_y)**2 + 2*u_f1f2*(f1_y*f2_y) + u_f2f2*(f2_y)**2 + u_f1*(f1_yy) + u_f2*(f2_yy)
display(Math(u_x =  + sp.latex(u_x)))
display(Math(u_y =  + sp.latex(u_y)))
display(Math(u_{xx} =  + sp.latex(u_xx)))
display(Math(u_{xy} =  + sp.latex(u_xy)))
display(Math(u_{yy} =  + sp.latex(u_yy)))
    
new_diff_eq = a1 * u_xx + a2 * u_xy + a3 * u_yy + a4 * u_x + a5 * u_y + a6 * u
simplified_diff_eq = sp.simplify(new_diff_eq)
display(Math(sp.latex(simplified_diff_eq)))
